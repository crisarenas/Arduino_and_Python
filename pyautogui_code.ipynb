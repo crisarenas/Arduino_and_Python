{
 "cells": [
  {
   "cell_type": "code",
   "execution_count": 1,
   "metadata": {},
   "outputs": [],
   "source": [
    "import serial      #This library reads the serial monitor\n",
    "import time        #To use delay functions\n",
    "import pyautogui   #To perform actions"
   ]
  },
  {
   "cell_type": "code",
   "execution_count": 2,
   "metadata": {},
   "outputs": [
    {
     "name": "stdout",
     "output_type": "stream",
     "text": [
      "b'Play/Pause\\r\\n'\n",
      "b'Play/Pause\\r\\n'\n",
      "b'Play/Pause\\r\\n'\n",
      "b'Play/Pause\\r\\n'\n",
      "b'Play/Pause\\r\\n'\n",
      "b'Play/Pause\\r\\n'\n",
      "b'Play/Pause\\r\\n'\n",
      "b'Left Locked\\r\\n'\n",
      "b'Volume Decreased\\r\\n'\n",
      "b'Left Locked\\r\\n'\n",
      "b'Volume Increased\\r\\n'\n",
      "b'Volume Decreased\\r\\n'\n",
      "b'Play/Pause\\r\\n'\n",
      "b'Left Locked\\r\\n'\n",
      "b'Volume Decreased\\r\\n'\n",
      "b'Left Locked\\r\\n'\n",
      "b'Volume Decreased\\r\\n'\n",
      "b'Play/Pause\\r\\n'\n",
      "b'Play/Pause\\r\\n'\n",
      "b'Play/Pause\\r\\n'\n",
      "b'Left Locked\\r\\n'\n",
      "b'Volume Decreased\\r\\n'\n",
      "b'Left Locked\\r\\n'\n",
      "b'Volume Decreased\\r\\n'\n",
      "b'Left Locked\\r\\n'\n",
      "b'Volume Decreased\\r\\n'\n",
      "b'Play/Pause\\r\\n'\n",
      "b'Play/Pause\\r\\n'\n",
      "b'Play/Pause\\r\\n'\n",
      "b'Play/Pause\\r\\n'\n",
      "b'Play/Pause\\r\\n'\n",
      "b'Play/Pause\\r\\n'\n",
      "b'Play/Pause\\r\\n'\n",
      "b'Play/Pause\\r\\n'\n",
      "b'Left Locked\\r\\n'\n",
      "b'Volume Decreased\\r\\n'\n",
      "b'Play/Pause\\r\\n'\n",
      "b'Play/Pause\\r\\n'\n"
     ]
    },
    {
     "ename": "KeyboardInterrupt",
     "evalue": "",
     "output_type": "error",
     "traceback": [
      "\u001b[1;31m---------------------------------------------------------------------------\u001b[0m",
      "\u001b[1;31mKeyboardInterrupt\u001b[0m                         Traceback (most recent call last)",
      "\u001b[1;32m<ipython-input-2-228accc3495d>\u001b[0m in \u001b[0;36m<module>\u001b[1;34m\u001b[0m\n\u001b[0;32m      2\u001b[0m \u001b[0mtime\u001b[0m\u001b[1;33m.\u001b[0m\u001b[0msleep\u001b[0m\u001b[1;33m(\u001b[0m\u001b[1;36m2\u001b[0m\u001b[1;33m)\u001b[0m \u001b[1;31m#wait for 2 seconds for the communication to get established\u001b[0m\u001b[1;33m\u001b[0m\u001b[1;33m\u001b[0m\u001b[0m\n\u001b[0;32m      3\u001b[0m \u001b[1;32mwhile\u001b[0m \u001b[1;36m1\u001b[0m\u001b[1;33m:\u001b[0m\u001b[1;33m\u001b[0m\u001b[1;33m\u001b[0m\u001b[0m\n\u001b[1;32m----> 4\u001b[1;33m     \u001b[0mincoming\u001b[0m \u001b[1;33m=\u001b[0m \u001b[0mstr\u001b[0m \u001b[1;33m(\u001b[0m\u001b[0mArduinoSerial\u001b[0m\u001b[1;33m.\u001b[0m\u001b[0mreadline\u001b[0m\u001b[1;33m(\u001b[0m\u001b[1;33m)\u001b[0m\u001b[1;33m)\u001b[0m \u001b[1;31m#read the serial data and print it as line\u001b[0m\u001b[1;33m\u001b[0m\u001b[1;33m\u001b[0m\u001b[0m\n\u001b[0m\u001b[0;32m      5\u001b[0m     \u001b[0mprint\u001b[0m\u001b[1;33m(\u001b[0m\u001b[0mincoming\u001b[0m\u001b[1;33m)\u001b[0m\u001b[1;33m\u001b[0m\u001b[1;33m\u001b[0m\u001b[0m\n\u001b[0;32m      6\u001b[0m \u001b[1;33m\u001b[0m\u001b[0m\n",
      "\u001b[1;32mc:\\users\\ux533f\\appdata\\local\\programs\\python\\python38-32\\lib\\site-packages\\serial\\serialwin32.py\u001b[0m in \u001b[0;36mread\u001b[1;34m(self, size)\u001b[0m\n\u001b[0;32m    286\u001b[0m                 \u001b[1;32mif\u001b[0m \u001b[1;32mnot\u001b[0m \u001b[0mread_ok\u001b[0m \u001b[1;32mand\u001b[0m \u001b[0mwin32\u001b[0m\u001b[1;33m.\u001b[0m\u001b[0mGetLastError\u001b[0m\u001b[1;33m(\u001b[0m\u001b[1;33m)\u001b[0m \u001b[1;32mnot\u001b[0m \u001b[1;32min\u001b[0m \u001b[1;33m(\u001b[0m\u001b[0mwin32\u001b[0m\u001b[1;33m.\u001b[0m\u001b[0mERROR_SUCCESS\u001b[0m\u001b[1;33m,\u001b[0m \u001b[0mwin32\u001b[0m\u001b[1;33m.\u001b[0m\u001b[0mERROR_IO_PENDING\u001b[0m\u001b[1;33m)\u001b[0m\u001b[1;33m:\u001b[0m\u001b[1;33m\u001b[0m\u001b[1;33m\u001b[0m\u001b[0m\n\u001b[0;32m    287\u001b[0m                     \u001b[1;32mraise\u001b[0m \u001b[0mSerialException\u001b[0m\u001b[1;33m(\u001b[0m\u001b[1;34m\"ReadFile failed ({!r})\"\u001b[0m\u001b[1;33m.\u001b[0m\u001b[0mformat\u001b[0m\u001b[1;33m(\u001b[0m\u001b[0mctypes\u001b[0m\u001b[1;33m.\u001b[0m\u001b[0mWinError\u001b[0m\u001b[1;33m(\u001b[0m\u001b[1;33m)\u001b[0m\u001b[1;33m)\u001b[0m\u001b[1;33m)\u001b[0m\u001b[1;33m\u001b[0m\u001b[1;33m\u001b[0m\u001b[0m\n\u001b[1;32m--> 288\u001b[1;33m                 result_ok = win32.GetOverlappedResult(\n\u001b[0m\u001b[0;32m    289\u001b[0m                     \u001b[0mself\u001b[0m\u001b[1;33m.\u001b[0m\u001b[0m_port_handle\u001b[0m\u001b[1;33m,\u001b[0m\u001b[1;33m\u001b[0m\u001b[1;33m\u001b[0m\u001b[0m\n\u001b[0;32m    290\u001b[0m                     \u001b[0mctypes\u001b[0m\u001b[1;33m.\u001b[0m\u001b[0mbyref\u001b[0m\u001b[1;33m(\u001b[0m\u001b[0mself\u001b[0m\u001b[1;33m.\u001b[0m\u001b[0m_overlapped_read\u001b[0m\u001b[1;33m)\u001b[0m\u001b[1;33m,\u001b[0m\u001b[1;33m\u001b[0m\u001b[1;33m\u001b[0m\u001b[0m\n",
      "\u001b[1;31mKeyboardInterrupt\u001b[0m: "
     ]
    }
   ],
   "source": [
    "ArduinoSerial = serial.Serial('com8',9600) #Create Serial port object called arduinoSerialData\n",
    "time.sleep(2) #wait for 2 seconds for the communication to get established\n",
    "while 1:\n",
    "    incoming = str (ArduinoSerial.readline()) #read the serial data and print it as line\n",
    "    print(incoming)\n",
    "    \n",
    "    if 'Play/Pause' in incoming:\n",
    "        pyautogui.typewrite(['space'], 0.2) \n",
    "    if 'Volume Incresaed' in incoming:\n",
    "        pyautogui.hotkey('ctrl', 'down')       \n",
    "    if 'Volume Decreased' in incoming:\n",
    "        pyautogui.hotkey('ctrl', 'up')\n",
    "    incoming = \"\";"
   ]
  },
  {
   "cell_type": "code",
   "execution_count": null,
   "metadata": {},
   "outputs": [],
   "source": []
  }
 ],
 "metadata": {
  "kernelspec": {
   "display_name": "Python 3",
   "language": "python",
   "name": "python3"
  },
  "language_info": {
   "codemirror_mode": {
    "name": "ipython",
    "version": 3
   },
   "file_extension": ".py",
   "mimetype": "text/x-python",
   "name": "python",
   "nbconvert_exporter": "python",
   "pygments_lexer": "ipython3",
   "version": "3.8.6"
  }
 },
 "nbformat": 4,
 "nbformat_minor": 4
}
